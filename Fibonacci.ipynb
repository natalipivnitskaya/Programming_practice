{
 "cells": [
  {
   "cell_type": "markdown",
   "metadata": {},
   "source": [
    "### Fibonacci"
   ]
  },
  {
   "cell_type": "markdown",
   "metadata": {},
   "source": [
    "Here one can find different types of fibonacci function implementation and performance comparison one over another that usually are asked on coding interviews."
   ]
  },
  {
   "cell_type": "code",
   "execution_count": 1,
   "metadata": {},
   "outputs": [],
   "source": [
    "def fibonacci(n):\n",
    "    if n < 0:\n",
    "        print('Input value must be possitive')\n",
    "        return None\n",
    "    elif n == 0:\n",
    "        return 0\n",
    "    elif n == 1:\n",
    "        return 1\n",
    "    else:\n",
    "        a = fibonacci(n-1)\n",
    "        b = fibonacci(n-2)\n",
    "        return a + b"
   ]
  },
  {
   "cell_type": "code",
   "execution_count": 2,
   "metadata": {},
   "outputs": [
    {
     "name": "stdout",
     "output_type": "stream",
     "text": [
      "CPU times: user 3.68 s, sys: 3.53 ms, total: 3.68 s\n",
      "Wall time: 3.68 s\n"
     ]
    },
    {
     "data": {
      "text/plain": [
       "9227465"
      ]
     },
     "execution_count": 2,
     "metadata": {},
     "output_type": "execute_result"
    }
   ],
   "source": [
    "%time fibonacci(35)"
   ]
  },
  {
   "cell_type": "code",
   "execution_count": 3,
   "metadata": {},
   "outputs": [],
   "source": [
    "def fibonacci_loop(n):\n",
    "    if n < 0:\n",
    "        print('Input value must be possitive')\n",
    "        return None\n",
    "    if n == 0:\n",
    "        return 0\n",
    "    if n == 1:\n",
    "        return 1\n",
    "    else:\n",
    "        a = 0\n",
    "        b = 1\n",
    "        for i in range(2, n + 1):\n",
    "            c = a + b\n",
    "            a = b\n",
    "            b = c\n",
    "    return c"
   ]
  },
  {
   "cell_type": "code",
   "execution_count": 4,
   "metadata": {},
   "outputs": [
    {
     "name": "stdout",
     "output_type": "stream",
     "text": [
      "CPU times: user 5 µs, sys: 0 ns, total: 5 µs\n",
      "Wall time: 7.15 µs\n"
     ]
    },
    {
     "data": {
      "text/plain": [
       "9227465"
      ]
     },
     "execution_count": 4,
     "metadata": {},
     "output_type": "execute_result"
    }
   ],
   "source": [
    "%time fibonacci_loop(35)"
   ]
  },
  {
   "cell_type": "code",
   "execution_count": 5,
   "metadata": {},
   "outputs": [],
   "source": [
    "fo_cache = {}\n",
    "def fibonacci_optimized(n):\n",
    "    if n < 0:\n",
    "        print('Input value must be possitive')\n",
    "        return None\n",
    "    elif n == 0:\n",
    "        return 0\n",
    "    elif n == 1:\n",
    "        return 1\n",
    "    elif fo_cache.get(n):\n",
    "        return fo_cache.get(n)\n",
    "    else:\n",
    "        a = fibonacci_optimized(n-1)\n",
    "        b = fibonacci_optimized(n-2)\n",
    "        fo_cache[n] = a + b\n",
    "        return a + b"
   ]
  },
  {
   "cell_type": "code",
   "execution_count": 6,
   "metadata": {},
   "outputs": [
    {
     "name": "stdout",
     "output_type": "stream",
     "text": [
      "CPU times: user 23 µs, sys: 0 ns, total: 23 µs\n",
      "Wall time: 26.9 µs\n"
     ]
    },
    {
     "data": {
      "text/plain": [
       "9227465"
      ]
     },
     "execution_count": 6,
     "metadata": {},
     "output_type": "execute_result"
    }
   ],
   "source": [
    "%time fibonacci_optimized(35)"
   ]
  },
  {
   "cell_type": "code",
   "execution_count": 7,
   "metadata": {},
   "outputs": [],
   "source": [
    "def fibonacci_array(n):\n",
    "    if n < 0:\n",
    "        print('Input value must be possitive')\n",
    "        return None\n",
    "    elif n == 0:\n",
    "        return [0]\n",
    "    elif n == 1:\n",
    "        return [0, 1]\n",
    "    else:\n",
    "        a = fibonacci_array(n-1)\n",
    "        b = fibonacci_array(n-2)\n",
    "        a.append(a[-1] + b[-1])\n",
    "        return a"
   ]
  },
  {
   "cell_type": "code",
   "execution_count": 8,
   "metadata": {},
   "outputs": [
    {
     "name": "stdout",
     "output_type": "stream",
     "text": [
      "CPU times: user 5.55 s, sys: 6.16 ms, total: 5.56 s\n",
      "Wall time: 5.56 s\n"
     ]
    },
    {
     "data": {
      "text/plain": [
       "[0,\n",
       " 1,\n",
       " 1,\n",
       " 2,\n",
       " 3,\n",
       " 5,\n",
       " 8,\n",
       " 13,\n",
       " 21,\n",
       " 34,\n",
       " 55,\n",
       " 89,\n",
       " 144,\n",
       " 233,\n",
       " 377,\n",
       " 610,\n",
       " 987,\n",
       " 1597,\n",
       " 2584,\n",
       " 4181,\n",
       " 6765,\n",
       " 10946,\n",
       " 17711,\n",
       " 28657,\n",
       " 46368,\n",
       " 75025,\n",
       " 121393,\n",
       " 196418,\n",
       " 317811,\n",
       " 514229,\n",
       " 832040,\n",
       " 1346269,\n",
       " 2178309,\n",
       " 3524578,\n",
       " 5702887,\n",
       " 9227465]"
      ]
     },
     "execution_count": 8,
     "metadata": {},
     "output_type": "execute_result"
    }
   ],
   "source": [
    "%time fibonacci_array(35)"
   ]
  },
  {
   "cell_type": "code",
   "execution_count": 9,
   "metadata": {},
   "outputs": [],
   "source": [
    "def fibonacci_loop_array(n):\n",
    "    if n < 0:\n",
    "        print('Input value must be possitive')\n",
    "        return None\n",
    "    \n",
    "    if n == 0:\n",
    "        return [0]\n",
    "    \n",
    "    output = [0, 1]\n",
    "    if n == 1:\n",
    "        return output\n",
    "    \n",
    "    else:\n",
    "        for i in range(2, n + 1):\n",
    "            output.append(sum((output[i-2],output[i-1])))\n",
    "    return output"
   ]
  },
  {
   "cell_type": "code",
   "execution_count": 10,
   "metadata": {},
   "outputs": [
    {
     "name": "stdout",
     "output_type": "stream",
     "text": [
      "CPU times: user 12 µs, sys: 0 ns, total: 12 µs\n",
      "Wall time: 14.8 µs\n"
     ]
    },
    {
     "data": {
      "text/plain": [
       "[0,\n",
       " 1,\n",
       " 1,\n",
       " 2,\n",
       " 3,\n",
       " 5,\n",
       " 8,\n",
       " 13,\n",
       " 21,\n",
       " 34,\n",
       " 55,\n",
       " 89,\n",
       " 144,\n",
       " 233,\n",
       " 377,\n",
       " 610,\n",
       " 987,\n",
       " 1597,\n",
       " 2584,\n",
       " 4181,\n",
       " 6765,\n",
       " 10946,\n",
       " 17711,\n",
       " 28657,\n",
       " 46368,\n",
       " 75025,\n",
       " 121393,\n",
       " 196418,\n",
       " 317811,\n",
       " 514229,\n",
       " 832040,\n",
       " 1346269,\n",
       " 2178309,\n",
       " 3524578,\n",
       " 5702887,\n",
       " 9227465]"
      ]
     },
     "execution_count": 10,
     "metadata": {},
     "output_type": "execute_result"
    }
   ],
   "source": [
    "%time fibonacci_loop_array(35)"
   ]
  },
  {
   "cell_type": "code",
   "execution_count": 11,
   "metadata": {},
   "outputs": [],
   "source": [
    "fao_cache = {}\n",
    "def fibonacci_array_optimized(n):\n",
    "    if n < 0:\n",
    "        print('Input value must be possitive')\n",
    "        return None\n",
    "    elif n == 0:\n",
    "        return [0]\n",
    "    elif n == 1:\n",
    "        return [0, 1]\n",
    "    elif fao_cache.get(n):\n",
    "        return fao_cache[n]\n",
    "    else:\n",
    "        a = fibonacci_array_optimized(n-1)\n",
    "        b = fibonacci_array_optimized(n-2)\n",
    "        a.append(a[-1] + b[-1])\n",
    "        fao_cache[n] = a\n",
    "        return a"
   ]
  },
  {
   "cell_type": "code",
   "execution_count": 12,
   "metadata": {},
   "outputs": [
    {
     "name": "stdout",
     "output_type": "stream",
     "text": [
      "CPU times: user 25 µs, sys: 0 ns, total: 25 µs\n",
      "Wall time: 26.9 µs\n"
     ]
    },
    {
     "data": {
      "text/plain": [
       "[0,\n",
       " 1,\n",
       " 1,\n",
       " 2,\n",
       " 4,\n",
       " 8,\n",
       " 16,\n",
       " 32,\n",
       " 64,\n",
       " 128,\n",
       " 256,\n",
       " 512,\n",
       " 1024,\n",
       " 2048,\n",
       " 4096,\n",
       " 8192,\n",
       " 16384,\n",
       " 32768,\n",
       " 65536,\n",
       " 131072,\n",
       " 262144,\n",
       " 524288,\n",
       " 1048576,\n",
       " 2097152,\n",
       " 4194304,\n",
       " 8388608,\n",
       " 16777216,\n",
       " 33554432,\n",
       " 67108864,\n",
       " 134217728,\n",
       " 268435456,\n",
       " 536870912,\n",
       " 1073741824,\n",
       " 2147483648,\n",
       " 4294967296,\n",
       " 8589934592]"
      ]
     },
     "execution_count": 12,
     "metadata": {},
     "output_type": "execute_result"
    }
   ],
   "source": [
    "%time fibonacci_array_optimized(35)"
   ]
  },
  {
   "cell_type": "code",
   "execution_count": 13,
   "metadata": {},
   "outputs": [],
   "source": [
    "def fibonacci_reversed_array(n):\n",
    "    if n < 0:\n",
    "        print('Input value must be possitive')\n",
    "        return None\n",
    "    elif n == 0:\n",
    "        return [0]\n",
    "    elif n == 1:\n",
    "        return [1, 0]\n",
    "    else:\n",
    "        a = fibonacci_reversed_array(n-1)\n",
    "        b = fibonacci_reversed_array(n-2)\n",
    "        c = [a[0] + b[0]]\n",
    "        c.extend(a) \n",
    "        return c"
   ]
  },
  {
   "cell_type": "code",
   "execution_count": 14,
   "metadata": {},
   "outputs": [
    {
     "name": "stdout",
     "output_type": "stream",
     "text": [
      "CPU times: user 6.12 s, sys: 9.09 ms, total: 6.13 s\n",
      "Wall time: 6.14 s\n"
     ]
    },
    {
     "data": {
      "text/plain": [
       "[9227465,\n",
       " 5702887,\n",
       " 3524578,\n",
       " 2178309,\n",
       " 1346269,\n",
       " 832040,\n",
       " 514229,\n",
       " 317811,\n",
       " 196418,\n",
       " 121393,\n",
       " 75025,\n",
       " 46368,\n",
       " 28657,\n",
       " 17711,\n",
       " 10946,\n",
       " 6765,\n",
       " 4181,\n",
       " 2584,\n",
       " 1597,\n",
       " 987,\n",
       " 610,\n",
       " 377,\n",
       " 233,\n",
       " 144,\n",
       " 89,\n",
       " 55,\n",
       " 34,\n",
       " 21,\n",
       " 13,\n",
       " 8,\n",
       " 5,\n",
       " 3,\n",
       " 2,\n",
       " 1,\n",
       " 1,\n",
       " 0]"
      ]
     },
     "execution_count": 14,
     "metadata": {},
     "output_type": "execute_result"
    }
   ],
   "source": [
    "%time fibonacci_reversed_array(35)"
   ]
  },
  {
   "cell_type": "code",
   "execution_count": 15,
   "metadata": {},
   "outputs": [],
   "source": [
    "def fibonacci_loop_reversed_array(n):\n",
    "    if n < 0:\n",
    "        print('Input value must be possitive')\n",
    "        return None\n",
    "    if n == 0:\n",
    "        return [0]\n",
    "    result = [1, 0]\n",
    "    if n == 1:\n",
    "        return result\n",
    "    \n",
    "    else:\n",
    "        for i in range(-2, n - 1):\n",
    "            c = [(sum((result[0], result[1])))]\n",
    "            c.extend(result)\n",
    "            result = c\n",
    "    return result"
   ]
  },
  {
   "cell_type": "code",
   "execution_count": 16,
   "metadata": {},
   "outputs": [
    {
     "name": "stdout",
     "output_type": "stream",
     "text": [
      "CPU times: user 17 µs, sys: 1 µs, total: 18 µs\n",
      "Wall time: 20 µs\n"
     ]
    },
    {
     "data": {
      "text/plain": [
       "[24157817,\n",
       " 14930352,\n",
       " 9227465,\n",
       " 5702887,\n",
       " 3524578,\n",
       " 2178309,\n",
       " 1346269,\n",
       " 832040,\n",
       " 514229,\n",
       " 317811,\n",
       " 196418,\n",
       " 121393,\n",
       " 75025,\n",
       " 46368,\n",
       " 28657,\n",
       " 17711,\n",
       " 10946,\n",
       " 6765,\n",
       " 4181,\n",
       " 2584,\n",
       " 1597,\n",
       " 987,\n",
       " 610,\n",
       " 377,\n",
       " 233,\n",
       " 144,\n",
       " 89,\n",
       " 55,\n",
       " 34,\n",
       " 21,\n",
       " 13,\n",
       " 8,\n",
       " 5,\n",
       " 3,\n",
       " 2,\n",
       " 1,\n",
       " 1,\n",
       " 0]"
      ]
     },
     "execution_count": 16,
     "metadata": {},
     "output_type": "execute_result"
    }
   ],
   "source": [
    "%time fibonacci_loop_reversed_array(35)"
   ]
  },
  {
   "cell_type": "code",
   "execution_count": 17,
   "metadata": {},
   "outputs": [],
   "source": [
    "frao_cache = {}\n",
    "def fibonacci_reversed_array_optimizied(n):\n",
    "    if n < 0:\n",
    "        print('Input value must be possitive')\n",
    "        return None\n",
    "    elif n == 0:\n",
    "        return [0]\n",
    "    elif n == 1:\n",
    "        return [1, 0]\n",
    "    elif frao_cache.get(n):\n",
    "        return frao_cache.get(n)\n",
    "    else:\n",
    "        a = fibonacci_reversed_array_optimizied(n-1)\n",
    "        b = fibonacci_reversed_array_optimizied(n-2)\n",
    "        c = [a[0] + b[0]]\n",
    "        c.extend(a)\n",
    "        frao_cache[n] = c\n",
    "        return c"
   ]
  },
  {
   "cell_type": "code",
   "execution_count": 18,
   "metadata": {},
   "outputs": [
    {
     "name": "stdout",
     "output_type": "stream",
     "text": [
      "CPU times: user 32 µs, sys: 0 ns, total: 32 µs\n",
      "Wall time: 35.3 µs\n"
     ]
    },
    {
     "data": {
      "text/plain": [
       "[9227465,\n",
       " 5702887,\n",
       " 3524578,\n",
       " 2178309,\n",
       " 1346269,\n",
       " 832040,\n",
       " 514229,\n",
       " 317811,\n",
       " 196418,\n",
       " 121393,\n",
       " 75025,\n",
       " 46368,\n",
       " 28657,\n",
       " 17711,\n",
       " 10946,\n",
       " 6765,\n",
       " 4181,\n",
       " 2584,\n",
       " 1597,\n",
       " 987,\n",
       " 610,\n",
       " 377,\n",
       " 233,\n",
       " 144,\n",
       " 89,\n",
       " 55,\n",
       " 34,\n",
       " 21,\n",
       " 13,\n",
       " 8,\n",
       " 5,\n",
       " 3,\n",
       " 2,\n",
       " 1,\n",
       " 1,\n",
       " 0]"
      ]
     },
     "execution_count": 18,
     "metadata": {},
     "output_type": "execute_result"
    }
   ],
   "source": [
    "%time fibonacci_reversed_array_optimizied(35)"
   ]
  }
 ],
 "metadata": {
  "kernelspec": {
   "display_name": "Python 3",
   "language": "python",
   "name": "python3"
  },
  "language_info": {
   "codemirror_mode": {
    "name": "ipython",
    "version": 3
   },
   "file_extension": ".py",
   "mimetype": "text/x-python",
   "name": "python",
   "nbconvert_exporter": "python",
   "pygments_lexer": "ipython3",
   "version": "3.7.1"
  }
 },
 "nbformat": 4,
 "nbformat_minor": 2
}
