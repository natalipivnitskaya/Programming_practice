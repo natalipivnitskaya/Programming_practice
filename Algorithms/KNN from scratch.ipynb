{
 "cells": [
  {
   "cell_type": "markdown",
   "metadata": {},
   "source": [
    "This notebook implements KNN algorithm from scratch without using scikit-learn"
   ]
  },
  {
   "cell_type": "code",
   "execution_count": 1,
   "metadata": {},
   "outputs": [],
   "source": [
    "import pandas as pd\n",
    "import numpy as np\n",
    "import math\n",
    "from collections import defaultdict\n",
    "import operator\n",
    "import matplotlib.pyplot as plt"
   ]
  },
  {
   "cell_type": "code",
   "execution_count": 2,
   "metadata": {},
   "outputs": [],
   "source": [
    "train_data = pd.read_csv('data/wookiee-train.csv', index_col = 0)"
   ]
  },
  {
   "cell_type": "code",
   "execution_count": 14,
   "metadata": {},
   "outputs": [],
   "source": [
    "train_data;"
   ]
  },
  {
   "cell_type": "code",
   "execution_count": 3,
   "metadata": {},
   "outputs": [],
   "source": [
    "test_data = pd.read_csv('data/wookiee-test.csv', index_col = 0)"
   ]
  },
  {
   "cell_type": "code",
   "execution_count": 4,
   "metadata": {},
   "outputs": [],
   "source": [
    "def euclideanDist(x, xi):\n",
    "    d = 0.0\n",
    "    for i in range(len(x)):\n",
    "        d += pow((float(x[i])-float(xi[i])),2)  #euclidean distance\n",
    "    d = math.sqrt(d)\n",
    "    return d"
   ]
  },
  {
   "cell_type": "code",
   "execution_count": 12,
   "metadata": {},
   "outputs": [
    {
     "data": {
      "text/plain": [
       "2.0"
      ]
     },
     "execution_count": 12,
     "metadata": {},
     "output_type": "execute_result"
    }
   ],
   "source": [
    "euclideanDist([4], [2])"
   ]
  },
  {
   "cell_type": "code",
   "execution_count": 5,
   "metadata": {},
   "outputs": [],
   "source": [
    "train_data = train_data[:100]\n",
    "test_data = test_data[:50]"
   ]
  },
  {
   "cell_type": "code",
   "execution_count": 16,
   "metadata": {},
   "outputs": [],
   "source": [
    "#KNN prediction and model training\n",
    "def knn_predict(test_data, train_data, k_value):\n",
    "    ans = []\n",
    "    for i in range(len(test_data)):\n",
    "        eu_Distance =[]\n",
    "        knn = []\n",
    "        color_dict = defaultdict(int)\n",
    "        \n",
    "        for j in range(len(train_data)):\n",
    "            eu_dist = euclideanDist(train_data.iloc[j,1:], test_data.iloc[i, 1:])\n",
    "            eu_Distance.append((train_data.iloc[j, 0], eu_dist))\n",
    "            eu_Distance.sort(key = operator.itemgetter(1))\n",
    "            knn = eu_Distance[:k_value]\n",
    "        for k in knn:\n",
    "            if k[0] =='red':\n",
    "                color_dict['red'] += 1\n",
    "\n",
    "            elif k[0] == 'blue':\n",
    "                color_dict['blue'] += 1\n",
    "\n",
    "            if k[0] == 'white':\n",
    "                color_dict['white'] += 1\n",
    "\n",
    "            elif k[0] == 'chartreuse':\n",
    "                color_dict['chartreuse'] +=1\n",
    "\n",
    "        ans.append(max(color_dict.items(), key=operator.itemgetter(1))[0])\n",
    "    \n",
    "    return ans"
   ]
  },
  {
   "cell_type": "code",
   "execution_count": 15,
   "metadata": {},
   "outputs": [
    {
     "data": {
      "text/plain": [
       "['red',\n",
       " 'red',\n",
       " 'chartreuse',\n",
       " 'red',\n",
       " 'blue',\n",
       " 'red',\n",
       " 'red',\n",
       " 'white',\n",
       " 'blue',\n",
       " 'white',\n",
       " 'blue',\n",
       " 'white',\n",
       " 'blue',\n",
       " 'chartreuse',\n",
       " 'red',\n",
       " 'red',\n",
       " 'red',\n",
       " 'blue',\n",
       " 'red',\n",
       " 'red',\n",
       " 'blue',\n",
       " 'red',\n",
       " 'blue',\n",
       " 'blue',\n",
       " 'chartreuse',\n",
       " 'white',\n",
       " 'chartreuse',\n",
       " 'white',\n",
       " 'chartreuse',\n",
       " 'white',\n",
       " 'red',\n",
       " 'blue',\n",
       " 'white',\n",
       " 'red',\n",
       " 'white',\n",
       " 'white',\n",
       " 'red',\n",
       " 'white',\n",
       " 'blue',\n",
       " 'red',\n",
       " 'white',\n",
       " 'red',\n",
       " 'white',\n",
       " 'white',\n",
       " 'white',\n",
       " 'red',\n",
       " 'red',\n",
       " 'chartreuse',\n",
       " 'white',\n",
       " 'red']"
      ]
     },
     "execution_count": 15,
     "metadata": {},
     "output_type": "execute_result"
    }
   ],
   "source": [
    "y_pred"
   ]
  },
  {
   "cell_type": "code",
   "execution_count": 17,
   "metadata": {},
   "outputs": [],
   "source": [
    "y_pred = knn_predict(test_data, train_data, k_value = 5)\n",
    "y_test = test_data.iloc[:, 0]"
   ]
  },
  {
   "cell_type": "code",
   "execution_count": 18,
   "metadata": {},
   "outputs": [],
   "source": [
    "def accuracy(y_pred = y_pred, y_test = y_test):\n",
    "    positive = 0\n",
    "    for i in range(len(y_pred)):\n",
    "        if y_pred[i] == y_test[i]:\n",
    "            positive += 1\n",
    "    return positive/len(y_pred)*100"
   ]
  },
  {
   "cell_type": "code",
   "execution_count": 19,
   "metadata": {},
   "outputs": [
    {
     "data": {
      "text/plain": [
       "60.0"
      ]
     },
     "execution_count": 19,
     "metadata": {},
     "output_type": "execute_result"
    }
   ],
   "source": [
    "accuracy()"
   ]
  },
  {
   "cell_type": "code",
   "execution_count": 22,
   "metadata": {},
   "outputs": [
    {
     "data": {
      "text/plain": [
       "[<matplotlib.lines.Line2D at 0x115dd71d0>]"
      ]
     },
     "execution_count": 22,
     "metadata": {},
     "output_type": "execute_result"
    },
    {
     "data": {
      "image/png": "[encoded data removed]",
      "text/plain": [
       "<Figure size 432x288 with 1 Axes>"
      ]
     },
     "metadata": {
      "needs_background": "light"
     },
     "output_type": "display_data"
    }
   ],
   "source": [
    "#Tuning K\n",
    "acc_scores = []\n",
    "k_values = list(range(2, 100))\n",
    "\n",
    "for k_value in k_values:\n",
    "    y_pred = knn_predict(test_data, train_data, k_value)\n",
    "    acc_scores.append(accuracy(y_pred, y_test))\n",
    "plt.plot(k_values, acc_scores)"
   ]
  },
  {
   "cell_type": "code",
   "execution_count": null,
   "metadata": {},
   "outputs": [],
   "source": []
  }
 ],
 "metadata": {
  "kernelspec": {
   "display_name": "Python 3",
   "language": "python",
   "name": "python3"
  },
  "language_info": {
   "codemirror_mode": {
    "name": "ipython",
    "version": 3
   },
   "file_extension": ".py",
   "mimetype": "text/x-python",
   "name": "python",
   "nbconvert_exporter": "python",
   "pygments_lexer": "ipython3",
   "version": "3.7.1"
  }
 },
 "nbformat": 4,
 "nbformat_minor": 2
}
